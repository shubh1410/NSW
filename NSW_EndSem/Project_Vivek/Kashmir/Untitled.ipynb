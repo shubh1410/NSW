{
 "cells": [
  {
   "cell_type": "code",
   "execution_count": 33,
   "metadata": {
    "scrolled": false
   },
   "outputs": [],
   "source": [
    "import csv\n",
    "import pandas as pd\n",
    "pd.options.display.max_rows = 999\n",
    "pd.options.display.max_columns = 999\n",
    "from itertools import product\n",
    "c=0\n",
    "data_follower=pd.read_csv('/home/tripti/Desktop/Vivek/NSW/Project/NSW/NSW_Kashmir/#Kashmir_follower_followee_network.csv')\n",
    "data_tweet= pd.read_csv('/home/tripti/Desktop/Vivek/NSW/Project/NSW/NSW_Kashmir/#Kashmir_tweets.csv')\n",
    "\n",
    "# with open('/home/shuham/Desktop/ayodhyahearing_follower_network_new.csv') as f:\n",
    "#     spamreader = csv.reader(f, delimiter=',')\n",
    "# #     for k, m in [(t, s) for i, *j in spamreader for t, s in product(i, j)]:\n",
    "# #         if len(m)!=0 :\n",
    "# #             print (k, m)\n",
    "# #             c=c+1\n",
    "#     for row in spamreader:\n",
    "#         for i in row:\n",
    "#             if not m:\n",
    "#                 print(row[0],i)\n",
    "            "
   ]
  },
  {
   "cell_type": "code",
   "execution_count": 34,
   "metadata": {},
   "outputs": [],
   "source": [
    "# data_tweet"
   ]
  },
  {
   "cell_type": "code",
   "execution_count": 35,
   "metadata": {},
   "outputs": [],
   "source": [
    "userid_screen_name= data_tweet[['user_id','screen_name']]\n",
    "dict={}\n",
    "c=len(userid_screen_name)\n",
    "for i in range(c):\n",
    "    dict[userid_screen_name.iloc[i][0][1:]]=userid_screen_name.iloc[i][1]"
   ]
  },
  {
   "cell_type": "code",
   "execution_count": 36,
   "metadata": {},
   "outputs": [
    {
     "data": {
      "text/html": [
       "<div>\n",
       "<style scoped>\n",
       "    .dataframe tbody tr th:only-of-type {\n",
       "        vertical-align: middle;\n",
       "    }\n",
       "\n",
       "    .dataframe tbody tr th {\n",
       "        vertical-align: top;\n",
       "    }\n",
       "\n",
       "    .dataframe thead th {\n",
       "        text-align: right;\n",
       "    }\n",
       "</style>\n",
       "<table border=\"1\" class=\"dataframe\">\n",
       "  <thead>\n",
       "    <tr style=\"text-align: right;\">\n",
       "      <th></th>\n",
       "      <th>screen_name</th>\n",
       "      <th>retweet_screen_name</th>\n",
       "    </tr>\n",
       "  </thead>\n",
       "  <tbody>\n",
       "    <tr>\n",
       "      <th>0</th>\n",
       "      <td>JKPNA1</td>\n",
       "      <td>0</td>\n",
       "    </tr>\n",
       "    <tr>\n",
       "      <th>1</th>\n",
       "      <td>GoPeaceWay</td>\n",
       "      <td>salmi_gull</td>\n",
       "    </tr>\n",
       "    <tr>\n",
       "      <th>2</th>\n",
       "      <td>AbdurRehman1918</td>\n",
       "      <td>630wa</td>\n",
       "    </tr>\n",
       "    <tr>\n",
       "      <th>3</th>\n",
       "      <td>AbdurRehman1918</td>\n",
       "      <td>mabdullah2k19</td>\n",
       "    </tr>\n",
       "    <tr>\n",
       "      <th>4</th>\n",
       "      <td>MoFaisu</td>\n",
       "      <td>salmi_gull</td>\n",
       "    </tr>\n",
       "  </tbody>\n",
       "</table>\n",
       "</div>"
      ],
      "text/plain": [
       "       screen_name retweet_screen_name\n",
       "0           JKPNA1                   0\n",
       "1       GoPeaceWay          salmi_gull\n",
       "2  AbdurRehman1918               630wa\n",
       "3  AbdurRehman1918       mabdullah2k19\n",
       "4          MoFaisu          salmi_gull"
      ]
     },
     "execution_count": 36,
     "metadata": {},
     "output_type": "execute_result"
    }
   ],
   "source": [
    "retweet=data_tweet[['screen_name','retweet_screen_name']]\n",
    "retweet=retweet.fillna(0)\n",
    "retweet.head()"
   ]
  },
  {
   "cell_type": "code",
   "execution_count": 37,
   "metadata": {},
   "outputs": [],
   "source": [
    "file_handler=open(\"/home/tripti/Desktop/Vivek/NSW/Project/NSW/NSW_Kashmir/edgeList.csv\",\"a+\") \n",
    "c=len(retweet)\n",
    "counter=0\n",
    "for i in range(c):\n",
    "    if retweet.iloc[i][1]==0:\n",
    "        continue\n",
    "    else:\n",
    "        file_handler.write(retweet.iloc[i][0]+\",\"+retweet.iloc[i][1]+\"\\n\")\n",
    "        counter=counter+1\n",
    "file_handler.close()"
   ]
  },
  {
   "cell_type": "code",
   "execution_count": 38,
   "metadata": {},
   "outputs": [
    {
     "data": {
      "text/html": [
       "<div>\n",
       "<style scoped>\n",
       "    .dataframe tbody tr th:only-of-type {\n",
       "        vertical-align: middle;\n",
       "    }\n",
       "\n",
       "    .dataframe tbody tr th {\n",
       "        vertical-align: top;\n",
       "    }\n",
       "\n",
       "    .dataframe thead th {\n",
       "        text-align: right;\n",
       "    }\n",
       "</style>\n",
       "<table border=\"1\" class=\"dataframe\">\n",
       "  <thead>\n",
       "    <tr style=\"text-align: right;\">\n",
       "      <th></th>\n",
       "      <th>screen_name</th>\n",
       "      <th>followerIDs</th>\n",
       "    </tr>\n",
       "  </thead>\n",
       "  <tbody>\n",
       "    <tr>\n",
       "      <th>0</th>\n",
       "      <td>JKPNA1</td>\n",
       "      <td>129555767, 1155318356817436672, 11708963347501...</td>\n",
       "    </tr>\n",
       "    <tr>\n",
       "      <th>1</th>\n",
       "      <td>GoPeaceWay</td>\n",
       "      <td>1088809351, 17995909, 1182343981486759936, 513...</td>\n",
       "    </tr>\n",
       "    <tr>\n",
       "      <th>2</th>\n",
       "      <td>AbdurRehman1918</td>\n",
       "      <td>1191790511796961282, 1191423113516335105, 1138...</td>\n",
       "    </tr>\n",
       "    <tr>\n",
       "      <th>3</th>\n",
       "      <td>MoFaisu</td>\n",
       "      <td>1053722499282821120, 1149955027462586368, 1116...</td>\n",
       "    </tr>\n",
       "    <tr>\n",
       "      <th>4</th>\n",
       "      <td>UmairKhanLive</td>\n",
       "      <td>1293832236, 1163978291742687238, 1171535472205...</td>\n",
       "    </tr>\n",
       "  </tbody>\n",
       "</table>\n",
       "</div>"
      ],
      "text/plain": [
       "       screen_name                                        followerIDs\n",
       "0           JKPNA1  129555767, 1155318356817436672, 11708963347501...\n",
       "1       GoPeaceWay  1088809351, 17995909, 1182343981486759936, 513...\n",
       "2  AbdurRehman1918  1191790511796961282, 1191423113516335105, 1138...\n",
       "3          MoFaisu  1053722499282821120, 1149955027462586368, 1116...\n",
       "4    UmairKhanLive  1293832236, 1163978291742687238, 1171535472205..."
      ]
     },
     "execution_count": 38,
     "metadata": {},
     "output_type": "execute_result"
    }
   ],
   "source": [
    "screen_followerId = data_follower[['screen_name','followerIDs']]\n",
    "screen_followerId.head()"
   ]
  },
  {
   "cell_type": "code",
   "execution_count": 39,
   "metadata": {},
   "outputs": [],
   "source": [
    "import math\n",
    "followerId = screen_followerId['followerIDs']\n",
    "list_follwerId = followerId.str.split(\",\")\n",
    "names = screen_followerId['screen_name']"
   ]
  },
  {
   "cell_type": "code",
   "execution_count": 40,
   "metadata": {},
   "outputs": [
    {
     "name": "stdout",
     "output_type": "stream",
     "text": [
      "matiq2k19 1181476077149052928\n",
      "1Irshadkhan,1181476077149052928,matiq2k19\n"
     ]
    }
   ],
   "source": [
    "file1 = open(\"/home/tripti/Desktop/Vivek/NSW/Project/NSW/NSW_Kashmir/edgeList2.csv\",\"a\") \n",
    "c=0\n",
    "counter=0\n",
    "for item in list_follwerId:\n",
    "    for i in item:\n",
    "        if i in dict:\n",
    "            print(names[c],i)\n",
    "            print(dict[i]+\",\"+i+\",\"+names[c])\n",
    "            file1.write(dict[i]+\",\"+i+\"\\n\")\n",
    "            counter+=1\n",
    "    c=c+1"
   ]
  },
  {
   "cell_type": "code",
   "execution_count": 47,
   "metadata": {},
   "outputs": [],
   "source": [
    "# pd.DataFrame.from_dict(dict)\n",
    "dict\n",
    "val = []\n",
    "for v in dict.values():\n",
    "    val.append(v)"
   ]
  },
  {
   "cell_type": "code",
   "execution_count": 51,
   "metadata": {},
   "outputs": [
    {
     "data": {
      "text/plain": [
       "154"
      ]
     },
     "execution_count": 51,
     "metadata": {},
     "output_type": "execute_result"
    }
   ],
   "source": [
    "len(val)"
   ]
  },
  {
   "cell_type": "code",
   "execution_count": 5,
   "metadata": {},
   "outputs": [],
   "source": [
    "di = {1:'a'}\n",
    "if '1' in di:\n",
    "    print('Ture')"
   ]
  },
  {
   "cell_type": "code",
   "execution_count": 7,
   "metadata": {},
   "outputs": [
    {
     "data": {
      "text/plain": [
       "'a'"
      ]
     },
     "execution_count": 7,
     "metadata": {},
     "output_type": "execute_result"
    }
   ],
   "source": [
    "di[1]"
   ]
  },
  {
   "cell_type": "code",
   "execution_count": null,
   "metadata": {},
   "outputs": [],
   "source": []
  }
 ],
 "metadata": {
  "kernelspec": {
   "display_name": "Python 3",
   "language": "python",
   "name": "python3"
  },
  "language_info": {
   "codemirror_mode": {
    "name": "ipython",
    "version": 3
   },
   "file_extension": ".py",
   "mimetype": "text/x-python",
   "name": "python",
   "nbconvert_exporter": "python",
   "pygments_lexer": "ipython3",
   "version": "3.5.2"
  }
 },
 "nbformat": 4,
 "nbformat_minor": 2
}
