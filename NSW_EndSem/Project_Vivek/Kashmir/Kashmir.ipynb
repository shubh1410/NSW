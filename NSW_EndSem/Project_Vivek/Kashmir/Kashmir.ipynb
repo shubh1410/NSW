{
 "cells": [
  {
   "cell_type": "code",
   "execution_count": 3,
   "metadata": {},
   "outputs": [],
   "source": [
    "import pandas as pd\n",
    "import numpy as np\n",
    "import igraph\n",
    "import networkx as nx\n",
    "import matplotlib.pyplot as plt"
   ]
  },
  {
   "cell_type": "code",
   "execution_count": 4,
   "metadata": {},
   "outputs": [],
   "source": [
    "follower_followee = pd.read_csv('/home/tripti/Desktop/Vivek/NSW/Project/Kashmir/#Kashmir_follower_followee_network.csv')\n",
    "tweetsCSV = pd.read_csv('/home/tripti/Desktop/Vivek/NSW/Project/Kashmir/#Kashmir_tweets.csv')\n",
    "\n",
    "def editUserIdColumn(tweetsData):\n",
    "    tweetsCSV['user_id'] = tweetsCSV.user_id.apply(lambda s : s[1:])\n",
    "    tweetsCSV['status_id'] = tweetsCSV.status_id.apply(lambda s : s[1:])\n",
    "editUserIdColumn(tweetsCSV)\n",
    "\n",
    "def makeUserDictionary(userDict, users):\n",
    "    for index in users.index:\n",
    "        key = users['user_id'][index]\n",
    "        val = users['screen_name'][index]\n",
    "        userDict[key] = val\n",
    "    return userDict\n",
    "\n",
    "def addAllFollowersToGraph(follower, G):\n",
    "    for ind in follower.index:\n",
    "        u = follower['screen_name'][ind]\n",
    "        followers = str(follower['followerIDs'][ind]).split(\", \")\n",
    "        for v in followers:\n",
    "            G.add_edge(v, u)\n",
    "\n",
    "def addAllFriendsToGraph(friend, G):\n",
    "    for ind in friend.index:\n",
    "        u = friend['screen_name'][ind]\n",
    "        friends = str(friend['friendIDs'][ind]).split(\", \")\n",
    "        for v in friends:\n",
    "            G.add_edge(u, v)\n",
    "                            \n",
    "def addCommonFollowersToGraph(followers, G, userDict):\n",
    "    for index in followers.index:\n",
    "        u = followers['screen_name'][index]\n",
    "        followerIDs = str(followers['followerIDs'][index]).split(\", \")\n",
    "        for v in followerIDs:\n",
    "            if v in userDict:\n",
    "                G.add_edge(userDict[v], u)\n",
    "\n",
    "def addCommonFriendsToGraph(friends, G, userDict):\n",
    "    for index in friends.index:\n",
    "        u = friends['screen_name'][index]\n",
    "        friendIDs = str(friends['friendIDs'][index]).split(\", \")\n",
    "        for v in friendIDs:\n",
    "            if v in userDict:\n",
    "                G.add_edge(u, userDict[v])"
   ]
  },
  {
   "cell_type": "code",
   "execution_count": 5,
   "metadata": {},
   "outputs": [],
   "source": [
    "G1 = nx.DiGraph()\n",
    "G2 = nx.DiGraph()\n",
    "\n",
    "users = tweetsCSV[['user_id', 'screen_name']].drop_duplicates(subset = 'user_id')\n",
    "userDict = makeUserDictionary({}, users)\n",
    "follower_df = follower_followee[['screen_name', 'friendIDs', 'followerIDs']]"
   ]
  },
  {
   "cell_type": "code",
   "execution_count": 6,
   "metadata": {},
   "outputs": [],
   "source": [
    "# for ID, name in userDict.items():\n",
    "#     G1.add_node(str(ID), screen_name = name)\n",
    "#     G2.add_node(str(ID), screen_name = name)"
   ]
  },
  {
   "cell_type": "code",
   "execution_count": 7,
   "metadata": {},
   "outputs": [],
   "source": [
    "addCommonFollowersToGraph(follower_df, G1, userDict)\n",
    "addCommonFriendsToGraph(follower_df, G2, userDict)"
   ]
  },
  {
   "cell_type": "code",
   "execution_count": 8,
   "metadata": {},
   "outputs": [],
   "source": [
    "# nx.write_edgelist(G1, '/home/tripti/Desktop/Vivek/NSW/Project/KashmirFollowerEdgeList')\n",
    "# nx.write_edgelist(G2, '/home/tripti/Desktop/Vivek/NSW/Project/KashmirFriendEdgeList')"
   ]
  },
  {
   "cell_type": "code",
   "execution_count": 11,
   "metadata": {},
   "outputs": [
    {
     "data": {
      "text/plain": [
       "66"
      ]
     },
     "execution_count": 11,
     "metadata": {},
     "output_type": "execute_result"
    }
   ],
   "source": [
    "len(G1.nodes)"
   ]
  },
  {
   "cell_type": "code",
   "execution_count": 12,
   "metadata": {},
   "outputs": [
    {
     "data": {
      "text/plain": [
       "152"
      ]
     },
     "execution_count": 12,
     "metadata": {},
     "output_type": "execute_result"
    }
   ],
   "source": [
    "len(G1.edges)"
   ]
  },
  {
   "cell_type": "code",
   "execution_count": null,
   "metadata": {},
   "outputs": [],
   "source": []
  }
 ],
 "metadata": {
  "kernelspec": {
   "display_name": "Python 3",
   "language": "python",
   "name": "python3"
  },
  "language_info": {
   "codemirror_mode": {
    "name": "ipython",
    "version": 3
   },
   "file_extension": ".py",
   "mimetype": "text/x-python",
   "name": "python",
   "nbconvert_exporter": "python",
   "pygments_lexer": "ipython3",
   "version": "3.5.2"
  }
 },
 "nbformat": 4,
 "nbformat_minor": 2
}
