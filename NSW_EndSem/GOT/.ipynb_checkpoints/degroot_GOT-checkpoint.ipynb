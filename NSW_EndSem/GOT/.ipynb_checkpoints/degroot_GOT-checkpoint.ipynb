{
 "cells": [
  {
   "cell_type": "code",
   "execution_count": 1,
   "metadata": {},
   "outputs": [],
   "source": [
    "import networkx as nx\n",
    "import csv\n",
    "import pandas as pd\n",
    "from itertools import product\n",
    "import pandas as pd\n",
    "import numpy as np\n",
    "import random as rd\n",
    "import matplotlib.pyplot as plt\n",
    "G=nx.Graph()"
   ]
  },
  {
   "cell_type": "code",
   "execution_count": 2,
   "metadata": {},
   "outputs": [],
   "source": [
    "import matplotlib.pyplot as plt\n",
    "from networkx import *\n",
    "import networkx as nx\n",
    "import sys\n",
    "# from __future__ import division, print_function\n",
    "\n",
    "import numpy as np\n",
    "import numpy.random as rand\n",
    "import random as stdrand\n",
    "import scipy.sparse as sparse\n",
    "from numpy.linalg import norm, inv\n",
    "import scipy.stats as stats\n",
    "\n",
    "from datetime import datetime\n",
    "from tqdm import trange\n",
    "\n",
    "#from util import *\n",
    "from viz import *\n",
    "\n",
    "from matplotlib.backends.backend_pdf import PdfPages"
   ]
  },
  {
   "cell_type": "code",
   "execution_count": 3,
   "metadata": {},
   "outputs": [],
   "source": [
    "def preprocessArgs(s, max_rounds):\n",
    "    '''Argument processing common for most models.\n",
    "    Returns:\n",
    "        N, z, max_rounds\n",
    "    '''\n",
    "\n",
    "    N = np.size(s)\n",
    "    max_rounds = int(max_rounds) + 1  # Round 0 contains the initial opinions\n",
    "    z = s.copy()\n",
    "\n",
    "    return N, z, max_rounds\n",
    "\n",
    "def trustFunc(s, i, j, h):\n",
    "    \n",
    "    trust =  np.exp( - (s[i] - s[j])**2 / h )\n",
    "    return trust\n"
   ]
  },
  {
   "cell_type": "code",
   "execution_count": 4,
   "metadata": {},
   "outputs": [],
   "source": [
    "def deGroot(A, s, max_rounds, eps=1e-6, stop=True, save=False):\n",
    "\n",
    "    N, z, max_rounds = preprocessArgs(s, max_rounds)\n",
    "\n",
    "    opinions = np.zeros((max_rounds, N))\n",
    "    print(opinions)\n",
    "    opinions[0, :] = s\n",
    "\n",
    "    for t in trange(1, max_rounds):\n",
    "\n",
    "        z = A.dot(z)\n",
    "\n",
    "\n",
    "        opinions[t, :] = z\n",
    "\n",
    "        if stop and \\\n",
    "           norm(opinions[t - 1, :] - opinions[t, :], np.inf) < eps:\n",
    "            print('DeGroot converged after {t} rounds'.format(t=t))\n",
    "            break\n",
    "\n",
    "    return opinions[0:t+1, :]\n",
    "\n"
   ]
  },
  {
   "cell_type": "code",
   "execution_count": 5,
   "metadata": {},
   "outputs": [],
   "source": [
    "import csv\n",
    "import pandas as pd\n",
    "from itertools import product\n",
    "import pandas as pd\n",
    "import numpy as np\n",
    "import random as rd\n",
    "import matplotlib.pyplot as plt\n",
    "import csv\n",
    "#import igraph as ig\n",
    "import networkx as nx\n",
    "from textblob import TextBlob\n",
    "import pandas as pd\n",
    "from wordcloud import WordCloud, STOPWORDS\n",
    "import matplotlib.pyplot as plt\n",
    "\n",
    "pd.options.display.max_rows = 999\n",
    "data_follower=pd.read_csv('/home/shuham/Desktop/Projects/NSW/NSW_EndSem/GOT/#GameofThrones_follower_followee_network.csv')\n",
    "data_tweet= pd.read_csv('/home/shuham/Desktop/Projects/NSW/NSW_EndSem/GOT/#GameofThrones_tweets.csv')"
   ]
  },
  {
   "cell_type": "code",
   "execution_count": 6,
   "metadata": {},
   "outputs": [],
   "source": [
    "comment_words = ' ' #We will be appending the words to this var\n",
    "stopwords = set(STOPWORDS) #Finds all stop words in the set of tweets.\n",
    "for val in data_tweet.text:\n",
    "   val = str(val) #convert all tweet content into strings\n",
    "   tokens = val.split() #Split all strings into individual components\n",
    "   for i in range(len(tokens)):\n",
    "      tokens[i] = tokens[i].lower() #Converts all the individual strings to lower case.\n",
    "for words in tokens:\n",
    "   comment_words = comment_words + words + ' '"
   ]
  },
  {
   "cell_type": "code",
   "execution_count": 7,
   "metadata": {},
   "outputs": [],
   "source": [
    "polarity = []\n",
    "for val in data_tweet.index:\n",
    "    sentiments = TextBlob(data_tweet['text'][val])\n",
    "    polarity.append(sentiments.polarity)"
   ]
  },
  {
   "cell_type": "code",
   "execution_count": 8,
   "metadata": {},
   "outputs": [],
   "source": [
    "G = nx.read_edgelist('retweet_GOT.csv', delimiter=',', nodetype=str, data=[('Source',str),('Target',str)])"
   ]
  },
  {
   "cell_type": "code",
   "execution_count": 9,
   "metadata": {},
   "outputs": [],
   "source": [
    "trust_matrix=nx.adjacency_matrix(G)"
   ]
  },
  {
   "cell_type": "code",
   "execution_count": 10,
   "metadata": {},
   "outputs": [],
   "source": [
    "def stochastic_matrix(A):\n",
    "    return A/A.sum(axis=1)"
   ]
  },
  {
   "cell_type": "code",
   "execution_count": 11,
   "metadata": {},
   "outputs": [],
   "source": [
    "trust_matrix=stochastic_matrix(trust_matrix)\n",
    "trust_matrix = np.squeeze(np.asarray(trust_matrix))"
   ]
  },
  {
   "cell_type": "code",
   "execution_count": 12,
   "metadata": {},
   "outputs": [],
   "source": [
    "s=np.random.normal(0.5,0.3,166)"
   ]
  },
  {
   "cell_type": "code",
   "execution_count": 13,
   "metadata": {},
   "outputs": [],
   "source": [
    "s=np.asarray(polarity)\n",
    "s=s[0:166,]"
   ]
  },
  {
   "cell_type": "code",
   "execution_count": 14,
   "metadata": {},
   "outputs": [
    {
     "name": "stderr",
     "output_type": "stream",
     "text": [
      "100%|██████████| 1000/1000 [00:00<00:00, 7425.60it/s]"
     ]
    },
    {
     "name": "stdout",
     "output_type": "stream",
     "text": [
      "[[0. 0. 0. ... 0. 0. 0.]\n",
      " [0. 0. 0. ... 0. 0. 0.]\n",
      " [0. 0. 0. ... 0. 0. 0.]\n",
      " ...\n",
      " [0. 0. 0. ... 0. 0. 0.]\n",
      " [0. 0. 0. ... 0. 0. 0.]\n",
      " [0. 0. 0. ... 0. 0. 0.]]\n",
      "[ 1.87500000e-01  0.00000000e+00  5.00000000e-01  2.33333333e-01\n",
      "  5.00000000e-01  1.87500000e-01  5.00000000e-01  0.00000000e+00\n",
      "  6.82575758e-02  0.00000000e+00  5.00000000e-01  3.11688312e-02\n",
      "  1.87500000e-01  1.04166667e-01  7.89935065e-02  1.04166667e-01\n",
      "  0.00000000e+00  2.08131313e-01  0.00000000e+00  0.00000000e+00\n",
      "  1.04166667e-01  1.04166667e-01  0.00000000e+00 -4.37500000e-02\n",
      " -5.00000000e-02  1.25000000e-02  0.00000000e+00  0.00000000e+00\n",
      "  0.00000000e+00  3.66666667e-01  0.00000000e+00  2.33333333e-01\n",
      "  5.05050505e-04  0.00000000e+00  0.00000000e+00  0.00000000e+00\n",
      "  2.33333333e-01  3.40909091e-02  2.33333333e-01  0.00000000e+00\n",
      " -8.63636364e-02  0.00000000e+00  2.33333333e-01  5.00000000e-01\n",
      "  2.23484848e-01  5.00000000e-01  0.00000000e+00  0.00000000e+00\n",
      "  2.00000000e-01  0.00000000e+00  8.33333333e-02  0.00000000e+00\n",
      "  0.00000000e+00  0.00000000e+00  0.00000000e+00  0.00000000e+00\n",
      "  0.00000000e+00  0.00000000e+00  8.00000000e-01  5.00000000e-01\n",
      "  0.00000000e+00  0.00000000e+00  1.59090909e-01  0.00000000e+00\n",
      "  0.00000000e+00  2.33333333e-01  0.00000000e+00  2.32142857e-01\n",
      "  2.66666667e-02  0.00000000e+00  1.11111111e-02  0.00000000e+00\n",
      "  5.00000000e-01  5.00000000e-01  0.00000000e+00  2.50000000e-01\n",
      "  1.72727273e-01 -3.37500000e-01 -3.37500000e-01 -3.37500000e-01\n",
      "  0.00000000e+00  0.00000000e+00 -4.00000000e-01  0.00000000e+00\n",
      "  1.53409091e-01  5.00000000e-01  0.00000000e+00  5.00000000e-01\n",
      "  0.00000000e+00  2.08333333e-01  0.00000000e+00 -2.31818182e-01\n",
      "  2.50000000e-01  0.00000000e+00 -4.00000000e-01  3.50000000e-01\n",
      "  1.75000000e-01 -5.00000000e-02  0.00000000e+00  5.00000000e-01\n",
      "  0.00000000e+00  0.00000000e+00  0.00000000e+00  0.00000000e+00\n",
      "  0.00000000e+00  0.00000000e+00 -1.33333333e-01  2.50000000e-01\n",
      "  0.00000000e+00  0.00000000e+00  1.25000000e-01  0.00000000e+00\n",
      "  5.55555556e-01  2.50000000e-01  5.55555556e-01  0.00000000e+00\n",
      "  5.00000000e-01  0.00000000e+00  0.00000000e+00  1.11111111e-01\n",
      "  6.66666667e-02  0.00000000e+00  0.00000000e+00  0.00000000e+00\n",
      "  0.00000000e+00 -4.00000000e-01  0.00000000e+00  0.00000000e+00\n",
      "  5.00000000e-01  0.00000000e+00  0.00000000e+00  1.00000000e+00\n",
      "  3.50000000e-01 -5.00000000e-02  0.00000000e+00  0.00000000e+00\n",
      "  0.00000000e+00  0.00000000e+00  1.74242424e-02  5.00000000e-02\n",
      "  0.00000000e+00  0.00000000e+00  0.00000000e+00  0.00000000e+00\n",
      "  8.00000000e-02  0.00000000e+00  0.00000000e+00  5.00000000e-01\n",
      "  2.50000000e-01  0.00000000e+00  2.33333333e-01  0.00000000e+00\n",
      "  0.00000000e+00  5.00000000e-01  5.00000000e-01  2.32142857e-01\n",
      "  0.00000000e+00 -5.00000000e-02  0.00000000e+00 -5.00000000e-01\n",
      "  0.00000000e+00  0.00000000e+00  0.00000000e+00  1.72727273e-01\n",
      "  0.00000000e+00  2.32142857e-01]\n"
     ]
    },
    {
     "name": "stderr",
     "output_type": "stream",
     "text": [
      "\n"
     ]
    }
   ],
   "source": [
    "max_rounds=1000\n",
    "opinionsIterations=deGroot(trust_matrix, s, max_rounds, eps=1e-6, stop=True, save=True)\n",
    "print(opinionsIterations[999])\n"
   ]
  },
  {
   "cell_type": "code",
   "execution_count": null,
   "metadata": {},
   "outputs": [],
   "source": []
  },
  {
   "cell_type": "code",
   "execution_count": null,
   "metadata": {},
   "outputs": [],
   "source": []
  }
 ],
 "metadata": {
  "kernelspec": {
   "display_name": "Python 3",
   "language": "python",
   "name": "python3"
  },
  "language_info": {
   "codemirror_mode": {
    "name": "ipython",
    "version": 3
   },
   "file_extension": ".py",
   "mimetype": "text/x-python",
   "name": "python",
   "nbconvert_exporter": "python",
   "pygments_lexer": "ipython3",
   "version": "3.7.5"
  }
 },
 "nbformat": 4,
 "nbformat_minor": 2
}
