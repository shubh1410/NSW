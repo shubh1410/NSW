{
 "cells": [
  {
   "cell_type": "code",
   "execution_count": 1,
   "metadata": {},
   "outputs": [],
   "source": [
    "import networkx as nx\n",
    "import csv\n",
    "import pandas as pd\n",
    "from itertools import product\n",
    "import pandas as pd\n",
    "import numpy as np\n",
    "import random as rd\n",
    "import matplotlib.pyplot as plt\n",
    "G=nx.Graph()"
   ]
  },
  {
   "cell_type": "code",
   "execution_count": 2,
   "metadata": {},
   "outputs": [],
   "source": [
    "import matplotlib.pyplot as plt\n",
    "from networkx import *\n",
    "import networkx as nx\n",
    "import sys\n",
    "# from __future__ import division, print_function\n",
    "\n",
    "import numpy as np\n",
    "import numpy.random as rand\n",
    "import random as stdrand\n",
    "import scipy.sparse as sparse\n",
    "from numpy.linalg import norm, inv\n",
    "import scipy.stats as stats\n",
    "\n",
    "from datetime import datetime\n",
    "from tqdm import trange\n",
    "\n",
    "#from util import *\n",
    "from viz import *\n",
    "\n",
    "from matplotlib.backends.backend_pdf import PdfPages"
   ]
  },
  {
   "cell_type": "code",
   "execution_count": 3,
   "metadata": {},
   "outputs": [],
   "source": [
    "def preprocessArgs(s, max_rounds):\n",
    "\n",
    "    N = np.size(s)\n",
    "    max_rounds = int(max_rounds) + 1  # Round 0 contains the initial opinions\n",
    "    z = s.copy()\n",
    "\n",
    "    return N, z, max_rounds\n",
    "\n",
    "def trustFunc(s, i, j, h):\n",
    "    \n",
    "    trust =  np.exp( - (s[i] - s[j])**2 / h )\n",
    "    return trust\n"
   ]
  },
  {
   "cell_type": "code",
   "execution_count": 4,
   "metadata": {},
   "outputs": [],
   "source": [
    "def deGroot(A, s, max_rounds, eps=1e-6, stop=True, save=False):\n",
    "\n",
    "    N, z, max_rounds = preprocessArgs(s, max_rounds)\n",
    "\n",
    "    opinions = np.zeros((max_rounds, N))\n",
    "    print(opinions)\n",
    "    opinions[0, :] = s\n",
    "\n",
    "    for t in trange(1, max_rounds):\n",
    "\n",
    "        z = A.dot(z)\n",
    "\n",
    "\n",
    "        opinions[t, :] = z\n",
    "\n",
    "        if stop and \\\n",
    "           norm(opinions[t - 1, :] - opinions[t, :], np.inf) < eps:\n",
    "            print('DeGroot converged after {t} rounds'.format(t=t))\n",
    "            break\n",
    "\n",
    "\n",
    "    return opinions[0:t+1, :]\n",
    "\n"
   ]
  },
  {
   "cell_type": "code",
   "execution_count": 5,
   "metadata": {},
   "outputs": [],
   "source": [
    "import csv\n",
    "import pandas as pd\n",
    "from itertools import product\n",
    "import pandas as pd\n",
    "import numpy as np\n",
    "import random as rd\n",
    "import matplotlib.pyplot as plt\n",
    "import csv\n",
    "#import igraph as ig\n",
    "import networkx as nx\n",
    "from textblob import TextBlob\n",
    "import pandas as pd\n",
    "from wordcloud import WordCloud, STOPWORDS\n",
    "import matplotlib.pyplot as plt\n",
    "\n",
    "pd.options.display.max_rows = 999\n",
    "data_follower=pd.read_csv('/home/shuham/Desktop/Projects/NSW/NSW_EndSem/Kashmir/#Kashmir_follower_followee_network.csv')\n",
    "data_tweet= pd.read_csv('/home/shuham/Desktop/Projects/NSW/NSW_EndSem/Kashmir/#Kashmir_tweets.csv')"
   ]
  },
  {
   "cell_type": "code",
   "execution_count": 6,
   "metadata": {},
   "outputs": [],
   "source": [
    "comment_words = ' ' #We will be appending the words to this var\n",
    "stopwords = set(STOPWORDS) #Finds all stop words in the set of tweets.\n",
    "for val in data_tweet.text:\n",
    "   val = str(val) #convert all tweet content into strings\n",
    "   tokens = val.split() #Split all strings into individual components\n",
    "   for i in range(len(tokens)):\n",
    "      tokens[i] = tokens[i].lower() #Converts all the individual strings to lower case.\n",
    "for words in tokens:\n",
    "   comment_words = comment_words + words + ' '"
   ]
  },
  {
   "cell_type": "code",
   "execution_count": 10,
   "metadata": {},
   "outputs": [],
   "source": [
    "polarity = []\n",
    "for val in data_tweet.index:\n",
    "    sentiments = TextBlob(data_tweet['text'][val])\n",
    "    polarity.append(sentiments.polarity)"
   ]
  },
  {
   "cell_type": "code",
   "execution_count": 11,
   "metadata": {},
   "outputs": [],
   "source": [
    "G = nx.read_edgelist('retweet_kashmir.csv', delimiter=',', nodetype=str, data=[('Source',str),('Target',str)])"
   ]
  },
  {
   "cell_type": "code",
   "execution_count": 12,
   "metadata": {},
   "outputs": [],
   "source": [
    "A=nx.adjacency_matrix(G)"
   ]
  },
  {
   "cell_type": "code",
   "execution_count": 13,
   "metadata": {},
   "outputs": [],
   "source": [
    "def stochastic_matrix(A):\n",
    "    return A/A.sum(axis=1)"
   ]
  },
  {
   "cell_type": "code",
   "execution_count": 14,
   "metadata": {},
   "outputs": [],
   "source": [
    "A=stochastic_matrix(A)\n",
    "A = np.squeeze(np.asarray(A))"
   ]
  },
  {
   "cell_type": "code",
   "execution_count": 15,
   "metadata": {},
   "outputs": [],
   "source": [
    "s=np.random.normal(0.5,0.3,184)"
   ]
  },
  {
   "cell_type": "code",
   "execution_count": 16,
   "metadata": {},
   "outputs": [],
   "source": [
    "s=np.asarray(polarity)\n",
    "s=s[0:184,]"
   ]
  },
  {
   "cell_type": "code",
   "execution_count": 18,
   "metadata": {},
   "outputs": [
    {
     "name": "stderr",
     "output_type": "stream",
     "text": [
      "100%|██████████| 1000/1000 [00:00<00:00, 6082.97it/s]"
     ]
    },
    {
     "name": "stdout",
     "output_type": "stream",
     "text": [
      "[[0. 0. 0. ... 0. 0. 0.]\n",
      " [0. 0. 0. ... 0. 0. 0.]\n",
      " [0. 0. 0. ... 0. 0. 0.]\n",
      " ...\n",
      " [0. 0. 0. ... 0. 0. 0.]\n",
      " [0. 0. 0. ... 0. 0. 0.]\n",
      " [0. 0. 0. ... 0. 0. 0.]]\n",
      "[ 0.          0.05338542  0.015       0.21        0.21        0.\n",
      " -0.02678571  0.13461538  0.13461538 -0.03526187 -0.03513099  0.\n",
      " -0.03517316 -0.03521826 -0.03521924  0.         -0.01978175 -0.01590909\n",
      " -0.01464286 -0.03528627 -0.03510685 -0.03528627 -0.5         0.04761905\n",
      " -0.23148148  0.          0.         -0.5        -0.05       -0.00535714\n",
      " -0.00535714 -0.00535714  0.          0.          0.00902199  0.\n",
      "  0.00902199  0.          0.         -0.01666667 -0.125       0.\n",
      "  0.34        0.          0.          0.          0.          0.\n",
      "  0.          0.         -0.01590909 -0.1         0.175       0.\n",
      "  0.          0.21        0.015      -0.03529999 -0.03509328  0.85\n",
      "  0.34       -0.01590909  0.         -0.1        -0.07777778  0.\n",
      "  0.          0.          0.13961039 -0.01145833  0.         -0.04821429\n",
      "  0.          0.00902199 -0.03529827 -0.03509498  0.          0.04761905\n",
      "  0.          0.35       -0.14166667  0.35        0.07047619 -0.23148148\n",
      "  0.         -0.01590909  0.075       0.4        -0.03529557 -0.03509551\n",
      "  0.          0.13961039 -0.03527407  0.          0.          0.\n",
      " -0.01590909 -0.01590909  0.          0.          0.05       -0.05\n",
      " -0.01590909  0.          0.          0.13961039  0.         -0.03527407\n",
      "  0.015      -0.05       -0.03527407  0.          0.67857143  0.\n",
      " -0.2        -0.01666667  0.         -0.03528828 -0.03510288  0.\n",
      "  0.14285714  0.          0.13961039 -0.03528828 -0.03510288  0.\n",
      "  0.          0.          0.35        0.          0.          0.\n",
      "  0.          0.01785714  0.          0.00902199  0.          0.25\n",
      "  0.          0.         -0.625       0.         -0.01590909  0.\n",
      "  0.1275      0.          0.13961039 -0.03529227 -0.00535714  0.\n",
      " -0.5         0.         -0.01666667  0.          0.13961039  0.\n",
      "  0.          0.          0.          0.          0.         -0.15111111\n",
      "  0.          0.13961039  0.          0.         -0.01590909 -0.25\n",
      "  0.          0.          0.00357143  0.         -0.03529827  0.13961039\n",
      "  0.         -0.01590909 -0.05        0.8         0.          0.\n",
      " -0.05        0.          0.          0.        ]\n"
     ]
    },
    {
     "name": "stderr",
     "output_type": "stream",
     "text": [
      "\n"
     ]
    }
   ],
   "source": [
    "max_rounds=1000\n",
    "opinionsIterations=deGroot(A, s, max_rounds, eps=1e-6, stop=True, save=True)\n",
    "print(opinionsIterations[499])"
   ]
  },
  {
   "cell_type": "code",
   "execution_count": null,
   "metadata": {},
   "outputs": [],
   "source": []
  },
  {
   "cell_type": "code",
   "execution_count": null,
   "metadata": {},
   "outputs": [],
   "source": []
  }
 ],
 "metadata": {
  "kernelspec": {
   "display_name": "Python 3",
   "language": "python",
   "name": "python3"
  },
  "language_info": {
   "codemirror_mode": {
    "name": "ipython",
    "version": 3
   },
   "file_extension": ".py",
   "mimetype": "text/x-python",
   "name": "python",
   "nbconvert_exporter": "python",
   "pygments_lexer": "ipython3",
   "version": "3.7.5"
  }
 },
 "nbformat": 4,
 "nbformat_minor": 2
}
