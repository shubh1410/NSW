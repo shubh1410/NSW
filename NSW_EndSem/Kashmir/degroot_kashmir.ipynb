{
 "cells": [
  {
   "cell_type": "code",
   "execution_count": 1,
   "metadata": {},
   "outputs": [],
   "source": [
    "import networkx as nx\n",
    "import csv\n",
    "import pandas as pd\n",
    "from itertools import product\n",
    "import pandas as pd\n",
    "import numpy as np\n",
    "import random as rd\n",
    "import matplotlib.pyplot as plt\n",
    "G=nx.Graph()"
   ]
  },
  {
   "cell_type": "code",
   "execution_count": 2,
   "metadata": {},
   "outputs": [],
   "source": [
    "import matplotlib.pyplot as plt\n",
    "from networkx import *\n",
    "import networkx as nx\n",
    "import sys\n",
    "# from __future__ import division, print_function\n",
    "\n",
    "import numpy as np\n",
    "import numpy.random as rand\n",
    "import random as stdrand\n",
    "import scipy.sparse as sparse\n",
    "from numpy.linalg import norm, inv\n",
    "import scipy.stats as stats\n",
    "\n",
    "from datetime import datetime\n",
    "from tqdm import trange\n",
    "\n",
    "#from util import *\n",
    "from viz import *\n",
    "\n",
    "from matplotlib.backends.backend_pdf import PdfPages"
   ]
  },
  {
   "cell_type": "code",
   "execution_count": 3,
   "metadata": {},
   "outputs": [],
   "source": [
    "def preprocessArgs(s, max_rounds):\n",
    "    '''Argument processing common for most models.\n",
    "    Returns:\n",
    "        N, z, max_rounds\n",
    "    '''\n",
    "\n",
    "    N = np.size(s)\n",
    "    max_rounds = int(max_rounds) + 1  # Round 0 contains the initial opinions\n",
    "    z = s.copy()\n",
    "\n",
    "    return N, z, max_rounds\n",
    "\n",
    "def trustFunc(s, i, j, h):\n",
    "    \n",
    "    trust =  np.exp( - (s[i] - s[j])**2 / h )\n",
    "    return trust\n"
   ]
  },
  {
   "cell_type": "code",
   "execution_count": 4,
   "metadata": {},
   "outputs": [],
   "source": [
    "def deGroot(A, s, max_rounds, eps=1e-6, conv_stop=True, save=False):\n",
    "    '''Simulates the DeGroot Model.\n",
    "    Runs a maximum of max_rounds rounds of the DeGroot model. If the model\n",
    "    converges sooner, the function returns.\n",
    "    Args:\n",
    "        A (NxN numpy array): Adjacency matrix\n",
    "        s (1xN numpy array): Initial opinions vector\n",
    "        max_rounds (int): Maximum number of rounds to simulate\n",
    "        eps (double): Maximum difference between rounds before we assume that\n",
    "        the model has converged (default: 1e-6)\n",
    "        conv_stop (bool): Stop the simulation if the model has converged\n",
    "        (default: True)\n",
    "        save (bool): Save the simulation data into text files\n",
    "    Returns:\n",
    "        A txN vector of the opinions of the nodes over time\n",
    "    '''\n",
    "\n",
    "    N, z, max_rounds = preprocessArgs(s, max_rounds)\n",
    "\n",
    "    opinions = np.zeros((max_rounds, N))\n",
    "    print(opinions)\n",
    "    opinions[0, :] = s\n",
    "\n",
    "    for t in trange(1, max_rounds):\n",
    "\n",
    "        z = A.dot(z)\n",
    "\n",
    "\n",
    "        opinions[t, :] = z\n",
    "\n",
    "        # print z\n",
    "\n",
    "        # print norm(opinions[t - 1, :] - opinions[t, :], np.inf)\n",
    "        if conv_stop and \\\n",
    "           norm(opinions[t - 1, :] - opinions[t, :], np.inf) < eps:\n",
    "            print('DeGroot converged after {t} rounds'.format(t=t))\n",
    "            break\n",
    "\n",
    "    if save:\n",
    "        timeStr = datetime.now().strftime(\"%m%d%H%M\")\n",
    "        simid = 'dg' + timeStr\n",
    "#         save_data(simid, N=N, max_rounds=max_rounds, eps=eps,\n",
    "#                       rounds_run=t+1, A=A, s=s,\n",
    "#                       opinions=opinions[0:t+1, :])\n",
    "\n",
    "    return opinions[0:t+1, :]\n",
    "\n"
   ]
  },
  {
   "cell_type": "code",
   "execution_count": 5,
   "metadata": {},
   "outputs": [],
   "source": [
    "import csv\n",
    "import pandas as pd\n",
    "from itertools import product\n",
    "import pandas as pd\n",
    "import numpy as np\n",
    "import random as rd\n",
    "import matplotlib.pyplot as plt\n",
    "import csv\n",
    "#import igraph as ig\n",
    "import networkx as nx\n",
    "from textblob import TextBlob\n",
    "import pandas as pd\n",
    "from wordcloud import WordCloud, STOPWORDS\n",
    "import matplotlib.pyplot as plt\n",
    "\n",
    "pd.options.display.max_rows = 999\n",
    "data_follower=pd.read_csv('/home/shuham/Desktop/Projects/NSW/NSW_Kashmir/#Kashmir_follower_followee_network.csv')\n",
    "data_tweet= pd.read_csv('/home/shuham/Desktop/Projects/NSW/NSW_Kashmir/#Kashmir_tweets.csv')"
   ]
  },
  {
   "cell_type": "code",
   "execution_count": 6,
   "metadata": {},
   "outputs": [
    {
     "data": {
      "text/plain": [
       "Index(['user_id', 'status_id', 'created_at', 'screen_name', 'text', 'source',\n",
       "       'display_text_width', 'reply_to_status_id', 'reply_to_user_id',\n",
       "       'reply_to_screen_name', 'is_quote', 'is_retweet', 'favorite_count',\n",
       "       'retweet_count', 'hashtags', 'symbols', 'urls_url', 'urls_t.co',\n",
       "       'urls_expanded_url', 'media_url', 'media_t.co', 'media_expanded_url',\n",
       "       'media_type', 'ext_media_url', 'ext_media_t.co',\n",
       "       'ext_media_expanded_url', 'ext_media_type', 'mentions_user_id',\n",
       "       'mentions_screen_name', 'lang', 'quoted_status_id', 'quoted_text',\n",
       "       'quoted_created_at', 'quoted_source', 'quoted_favorite_count',\n",
       "       'quoted_retweet_count', 'quoted_user_id', 'quoted_screen_name',\n",
       "       'quoted_name', 'quoted_followers_count', 'quoted_friends_count',\n",
       "       'quoted_statuses_count', 'quoted_location', 'quoted_description',\n",
       "       'quoted_verified', 'retweet_status_id', 'retweet_text',\n",
       "       'retweet_created_at', 'retweet_source', 'retweet_favorite_count',\n",
       "       'retweet_retweet_count', 'retweet_user_id', 'retweet_screen_name',\n",
       "       'retweet_name', 'retweet_followers_count', 'retweet_friends_count',\n",
       "       'retweet_statuses_count', 'retweet_location', 'retweet_description',\n",
       "       'retweet_verified', 'place_url', 'place_name', 'place_full_name',\n",
       "       'place_type', 'country', 'country_code', 'geo_coords', 'coords_coords',\n",
       "       'bbox_coords', 'status_url', 'name', 'location', 'description', 'url',\n",
       "       'protected', 'followers_count', 'friends_count', 'listed_count',\n",
       "       'statuses_count', 'favourites_count', 'account_created_at', 'verified',\n",
       "       'profile_url', 'profile_expanded_url', 'account_lang',\n",
       "       'profile_banner_url', 'profile_background_url', 'profile_image_url'],\n",
       "      dtype='object')"
      ]
     },
     "execution_count": 6,
     "metadata": {},
     "output_type": "execute_result"
    }
   ],
   "source": [
    "data_tweet.columns"
   ]
  },
  {
   "cell_type": "code",
   "execution_count": 7,
   "metadata": {},
   "outputs": [],
   "source": [
    "comment_words = ' ' #We will be appending the words to this var\n",
    "stopwords = set(STOPWORDS) #Finds all stop words in the set of tweets.\n",
    "for val in data_tweet.text:\n",
    "   val = str(val) #convert all tweet content into strings\n",
    "   tokens = val.split() #Split all strings into individual components\n",
    "   for i in range(len(tokens)):\n",
    "      tokens[i] = tokens[i].lower() #Converts all the individual strings to lower case.\n",
    "for words in tokens:\n",
    "   comment_words = comment_words + words + ' '"
   ]
  },
  {
   "cell_type": "code",
   "execution_count": 8,
   "metadata": {},
   "outputs": [],
   "source": [
    "polarity = []\n",
    "for val in data_tweet.index:\n",
    "    sentiments = TextBlob(data_tweet['text'][val])\n",
    "    polarity.append(sentiments.polarity)"
   ]
  },
  {
   "cell_type": "code",
   "execution_count": 9,
   "metadata": {},
   "outputs": [
    {
     "data": {
      "text/plain": [
       "[-0.125,\n",
       " 0.0,\n",
       " 0.0,\n",
       " 0.0,\n",
       " 0.0,\n",
       " 0.0,\n",
       " 0.1346153846153846,\n",
       " 0.0,\n",
       " -0.053571428571428575,\n",
       " 0.0,\n",
       " 0.0,\n",
       " 0.0,\n",
       " 0.1275,\n",
       " 0.0,\n",
       " 0.0,\n",
       " 0.0,\n",
       " 0.0,\n",
       " -0.2,\n",
       " -0.015909090909090914,\n",
       " 0.0,\n",
       " -0.2,\n",
       " 0.0,\n",
       " 0.14285714285714285,\n",
       " -0.5,\n",
       " 0.0,\n",
       " -0.375,\n",
       " 0.0,\n",
       " 6.938893903907228e-18,\n",
       " 0.03571428571428571,\n",
       " 0.0,\n",
       " -0.09999999999999999,\n",
       " 0.0,\n",
       " 0.0,\n",
       " 0.0,\n",
       " 0.0,\n",
       " 0.0,\n",
       " 0.0,\n",
       " 0.0,\n",
       " 0.0,\n",
       " -0.25,\n",
       " -0.016666666666666666,\n",
       " 0.34,\n",
       " 0.0,\n",
       " 0.0,\n",
       " 0.0,\n",
       " -0.29791666666666666,\n",
       " 0.0,\n",
       " 0.85,\n",
       " 0.0,\n",
       " 0.0,\n",
       " 0.0,\n",
       " 0.0,\n",
       " -0.09999999999999998,\n",
       " 0.0,\n",
       " 0.0,\n",
       " 0.07500000000000001,\n",
       " 0.35,\n",
       " 0.0,\n",
       " 0.0,\n",
       " 0.34,\n",
       " 0.85,\n",
       " -0.125,\n",
       " 0.0,\n",
       " 0.35,\n",
       " 0.0,\n",
       " -0.07777777777777779,\n",
       " -0.15111111111111114,\n",
       " 0.20000000000000004,\n",
       " 0.0,\n",
       " 0.1396103896103896,\n",
       " 0.0035714285714285657,\n",
       " 0.0,\n",
       " 0.0,\n",
       " 0.0,\n",
       " 0.0,\n",
       " 0.0,\n",
       " 0.09523809523809523,\n",
       " 0.0,\n",
       " 0.0,\n",
       " -0.14166666666666664,\n",
       " 0.35,\n",
       " 0.07047619047619047,\n",
       " 0.35,\n",
       " 0.0,\n",
       " 0.05555555555555555,\n",
       " 0.09285714285714286,\n",
       " 0.4,\n",
       " 0.07500000000000001,\n",
       " 0.0,\n",
       " 0.5,\n",
       " 0.1396103896103896,\n",
       " 0.0,\n",
       " -0.6999999999999998,\n",
       " 0.0,\n",
       " 0.0,\n",
       " -0.09999999999999999,\n",
       " 0.2857142857142857,\n",
       " 0.0,\n",
       " 0.0,\n",
       " 0.0,\n",
       " 0.0,\n",
       " 0.0,\n",
       " 0.0,\n",
       " 0.0,\n",
       " 0.0,\n",
       " 0.0,\n",
       " 0.0,\n",
       " 0.0,\n",
       " 0.35,\n",
       " -0.15000000000000002,\n",
       " 0.0,\n",
       " 0.0,\n",
       " 0.0,\n",
       " 0.6785714285714286,\n",
       " -0.016666666666666666,\n",
       " -0.2,\n",
       " 0.0,\n",
       " 0.0,\n",
       " 0.0,\n",
       " 0.0,\n",
       " 0.0,\n",
       " 0.14285714285714285,\n",
       " 0.0,\n",
       " 0.0,\n",
       " -0.09999999999999999,\n",
       " 0.0,\n",
       " 0.0,\n",
       " 0.0,\n",
       " 0.0,\n",
       " 0.35,\n",
       " 0.0,\n",
       " 0.0,\n",
       " 0.01785714285714285,\n",
       " 0.0,\n",
       " 0.0,\n",
       " 0.0,\n",
       " 0.25,\n",
       " 0.0,\n",
       " 0.0,\n",
       " -0.15111111111111114,\n",
       " -0.625,\n",
       " -0.09999999999999999,\n",
       " 0.0,\n",
       " 0.1275,\n",
       " 0.0,\n",
       " 0.25,\n",
       " -0.06875,\n",
       " 0.2,\n",
       " 0.0,\n",
       " 0.0,\n",
       " 0.0,\n",
       " 0.11874999999999997,\n",
       " 0.0,\n",
       " 0.0,\n",
       " 0.0,\n",
       " 0.20000000000000004,\n",
       " 0.0,\n",
       " 0.0,\n",
       " 0.0,\n",
       " 0.0,\n",
       " -0.15111111111111114,\n",
       " 0.0,\n",
       " 0.1396103896103896,\n",
       " 0.0,\n",
       " 0.01785714285714285,\n",
       " -0.5,\n",
       " -0.2,\n",
       " 0.0,\n",
       " -0.25,\n",
       " 0.0035714285714285657,\n",
       " 0.0,\n",
       " -0.15111111111111114,\n",
       " 0.35,\n",
       " 0.0,\n",
       " 0.0,\n",
       " 0.0,\n",
       " 0.0,\n",
       " 0.0,\n",
       " 0.8,\n",
       " 0.075,\n",
       " 0.0,\n",
       " 0.0,\n",
       " 0.0,\n",
       " 0.2,\n",
       " 0.0035714285714285657,\n",
       " 0.1875,\n",
       " 0.0,\n",
       " 0.0,\n",
       " 0.0625,\n",
       " 0.1396103896103896,\n",
       " 0.0,\n",
       " -0.15111111111111114,\n",
       " 0.35,\n",
       " 0.0,\n",
       " 0.14285714285714285,\n",
       " 0.1,\n",
       " -0.175,\n",
       " -0.033333333333333326,\n",
       " 0.09081632653061224,\n",
       " 0.0]"
      ]
     },
     "execution_count": 9,
     "metadata": {},
     "output_type": "execute_result"
    }
   ],
   "source": [
    "polarity"
   ]
  },
  {
   "cell_type": "code",
   "execution_count": 10,
   "metadata": {},
   "outputs": [
    {
     "name": "stdout",
     "output_type": "stream",
     "text": [
      "Name: \n",
      "Type: Graph\n",
      "Number of nodes: 184\n",
      "Number of edges: 145\n",
      "Average degree:   1.5761\n"
     ]
    }
   ],
   "source": [
    "G = nx.read_edgelist('retweet_kashmir.csv', delimiter=',', nodetype=str, data=[('Source',str),('Target',str)])\n",
    "\n",
    "print (nx.info(G))"
   ]
  },
  {
   "cell_type": "code",
   "execution_count": 11,
   "metadata": {},
   "outputs": [],
   "source": [
    "A=nx.adjacency_matrix(G)"
   ]
  },
  {
   "cell_type": "code",
   "execution_count": 12,
   "metadata": {},
   "outputs": [
    {
     "data": {
      "text/plain": [
       "(184, 184)"
      ]
     },
     "execution_count": 12,
     "metadata": {},
     "output_type": "execute_result"
    }
   ],
   "source": [
    "A.shape"
   ]
  },
  {
   "cell_type": "code",
   "execution_count": 13,
   "metadata": {},
   "outputs": [
    {
     "name": "stdout",
     "output_type": "stream",
     "text": [
      "  (0, 1)\t1\n",
      "  (1, 0)\t1\n",
      "  (1, 5)\t1\n",
      "  (1, 26)\t1\n",
      "  (1, 32)\t1\n",
      "  (1, 45)\t1\n",
      "  (1, 47)\t1\n",
      "  (1, 94)\t1\n",
      "  (1, 119)\t1\n",
      "  (2, 3)\t1\n",
      "  (2, 4)\t1\n",
      "  (3, 2)\t1\n",
      "  (4, 2)\t1\n",
      "  (4, 56)\t1\n",
      "  (4, 108)\t1\n",
      "  (5, 1)\t1\n",
      "  (6, 7)\t1\n",
      "  (6, 8)\t1\n",
      "  (7, 6)\t1\n",
      "  (8, 6)\t1\n",
      "  (9, 10)\t1\n",
      "  (10, 9)\t1\n",
      "  (10, 13)\t1\n",
      "  (10, 92)\t1\n",
      "  (10, 107)\t1\n",
      "  :\t:\n",
      "  (159, 158)\t1\n",
      "  (160, 161)\t1\n",
      "  (161, 160)\t1\n",
      "  (162, 163)\t1\n",
      "  (163, 162)\t1\n",
      "  (164, 16)\t1\n",
      "  (165, 34)\t1\n",
      "  (166, 18)\t1\n",
      "  (167, 168)\t1\n",
      "  (168, 167)\t1\n",
      "  (169, 170)\t1\n",
      "  (170, 169)\t1\n",
      "  (171, 16)\t1\n",
      "  (172, 75)\t1\n",
      "  (173, 69)\t1\n",
      "  (174, 100)\t1\n",
      "  (175, 18)\t1\n",
      "  (176, 30)\t1\n",
      "  (177, 178)\t1\n",
      "  (178, 177)\t1\n",
      "  (179, 16)\t1\n",
      "  (180, 30)\t1\n",
      "  (181, 182)\t1\n",
      "  (182, 181)\t1\n",
      "  (183, 73)\t1\n"
     ]
    }
   ],
   "source": [
    "print(A)"
   ]
  },
  {
   "cell_type": "code",
   "execution_count": 14,
   "metadata": {},
   "outputs": [],
   "source": [
    "def stochastic_matrix(A):\n",
    "    return A/A.sum(axis=1)"
   ]
  },
  {
   "cell_type": "code",
   "execution_count": 15,
   "metadata": {},
   "outputs": [],
   "source": [
    "A=stochastic_matrix(A)\n",
    "A = np.squeeze(np.asarray(A))"
   ]
  },
  {
   "cell_type": "code",
   "execution_count": 16,
   "metadata": {},
   "outputs": [],
   "source": [
    "s=np.random.normal(0.5,0.3,184)"
   ]
  },
  {
   "cell_type": "code",
   "execution_count": 17,
   "metadata": {},
   "outputs": [
    {
     "data": {
      "text/plain": [
       "array([-1.25000000e-01,  0.00000000e+00,  0.00000000e+00,  0.00000000e+00,\n",
       "        0.00000000e+00,  0.00000000e+00,  1.34615385e-01,  0.00000000e+00,\n",
       "       -5.35714286e-02,  0.00000000e+00,  0.00000000e+00,  0.00000000e+00,\n",
       "        1.27500000e-01,  0.00000000e+00,  0.00000000e+00,  0.00000000e+00,\n",
       "        0.00000000e+00, -2.00000000e-01, -1.59090909e-02,  0.00000000e+00,\n",
       "       -2.00000000e-01,  0.00000000e+00,  1.42857143e-01, -5.00000000e-01,\n",
       "        0.00000000e+00, -3.75000000e-01,  0.00000000e+00,  6.93889390e-18,\n",
       "        3.57142857e-02,  0.00000000e+00, -1.00000000e-01,  0.00000000e+00,\n",
       "        0.00000000e+00,  0.00000000e+00,  0.00000000e+00,  0.00000000e+00,\n",
       "        0.00000000e+00,  0.00000000e+00,  0.00000000e+00, -2.50000000e-01,\n",
       "       -1.66666667e-02,  3.40000000e-01,  0.00000000e+00,  0.00000000e+00,\n",
       "        0.00000000e+00, -2.97916667e-01,  0.00000000e+00,  8.50000000e-01,\n",
       "        0.00000000e+00,  0.00000000e+00,  0.00000000e+00,  0.00000000e+00,\n",
       "       -1.00000000e-01,  0.00000000e+00,  0.00000000e+00,  7.50000000e-02,\n",
       "        3.50000000e-01,  0.00000000e+00,  0.00000000e+00,  3.40000000e-01,\n",
       "        8.50000000e-01, -1.25000000e-01,  0.00000000e+00,  3.50000000e-01,\n",
       "        0.00000000e+00, -7.77777778e-02, -1.51111111e-01,  2.00000000e-01,\n",
       "        0.00000000e+00,  1.39610390e-01,  3.57142857e-03,  0.00000000e+00,\n",
       "        0.00000000e+00,  0.00000000e+00,  0.00000000e+00,  0.00000000e+00,\n",
       "        9.52380952e-02,  0.00000000e+00,  0.00000000e+00, -1.41666667e-01,\n",
       "        3.50000000e-01,  7.04761905e-02,  3.50000000e-01,  0.00000000e+00,\n",
       "        5.55555556e-02,  9.28571429e-02,  4.00000000e-01,  7.50000000e-02,\n",
       "        0.00000000e+00,  5.00000000e-01,  1.39610390e-01,  0.00000000e+00,\n",
       "       -7.00000000e-01,  0.00000000e+00,  0.00000000e+00, -1.00000000e-01,\n",
       "        2.85714286e-01,  0.00000000e+00,  0.00000000e+00,  0.00000000e+00,\n",
       "        0.00000000e+00,  0.00000000e+00,  0.00000000e+00,  0.00000000e+00,\n",
       "        0.00000000e+00,  0.00000000e+00,  0.00000000e+00,  0.00000000e+00,\n",
       "        3.50000000e-01, -1.50000000e-01,  0.00000000e+00,  0.00000000e+00,\n",
       "        0.00000000e+00,  6.78571429e-01, -1.66666667e-02, -2.00000000e-01,\n",
       "        0.00000000e+00,  0.00000000e+00,  0.00000000e+00,  0.00000000e+00,\n",
       "        0.00000000e+00,  1.42857143e-01,  0.00000000e+00,  0.00000000e+00,\n",
       "       -1.00000000e-01,  0.00000000e+00,  0.00000000e+00,  0.00000000e+00,\n",
       "        0.00000000e+00,  3.50000000e-01,  0.00000000e+00,  0.00000000e+00,\n",
       "        1.78571429e-02,  0.00000000e+00,  0.00000000e+00,  0.00000000e+00,\n",
       "        2.50000000e-01,  0.00000000e+00,  0.00000000e+00, -1.51111111e-01,\n",
       "       -6.25000000e-01, -1.00000000e-01,  0.00000000e+00,  1.27500000e-01,\n",
       "        0.00000000e+00,  2.50000000e-01, -6.87500000e-02,  2.00000000e-01,\n",
       "        0.00000000e+00,  0.00000000e+00,  0.00000000e+00,  1.18750000e-01,\n",
       "        0.00000000e+00,  0.00000000e+00,  0.00000000e+00,  2.00000000e-01,\n",
       "        0.00000000e+00,  0.00000000e+00,  0.00000000e+00,  0.00000000e+00,\n",
       "       -1.51111111e-01,  0.00000000e+00,  1.39610390e-01,  0.00000000e+00,\n",
       "        1.78571429e-02, -5.00000000e-01, -2.00000000e-01,  0.00000000e+00,\n",
       "       -2.50000000e-01,  3.57142857e-03,  0.00000000e+00, -1.51111111e-01,\n",
       "        3.50000000e-01,  0.00000000e+00,  0.00000000e+00,  0.00000000e+00,\n",
       "        0.00000000e+00,  0.00000000e+00,  8.00000000e-01,  7.50000000e-02,\n",
       "        0.00000000e+00,  0.00000000e+00,  0.00000000e+00,  2.00000000e-01])"
      ]
     },
     "execution_count": 17,
     "metadata": {},
     "output_type": "execute_result"
    }
   ],
   "source": [
    "s=np.asarray(polarity)\n",
    "s=s[0:184,]\n",
    "s"
   ]
  },
  {
   "cell_type": "code",
   "execution_count": 18,
   "metadata": {},
   "outputs": [
    {
     "data": {
      "text/plain": [
       "(184,)"
      ]
     },
     "execution_count": 18,
     "metadata": {},
     "output_type": "execute_result"
    }
   ],
   "source": [
    "#s=np.delete(s,199)\n",
    "s.shape"
   ]
  },
  {
   "cell_type": "code",
   "execution_count": 19,
   "metadata": {},
   "outputs": [
    {
     "name": "stderr",
     "output_type": "stream",
     "text": [
      "100%|██████████| 500/500 [00:00<00:00, 7640.18it/s]"
     ]
    },
    {
     "name": "stdout",
     "output_type": "stream",
     "text": [
      "[[0. 0. 0. ... 0. 0. 0.]\n",
      " [0. 0. 0. ... 0. 0. 0.]\n",
      " [0. 0. 0. ... 0. 0. 0.]\n",
      " ...\n",
      " [0. 0. 0. ... 0. 0. 0.]\n",
      " [0. 0. 0. ... 0. 0. 0.]\n",
      " [0. 0. 0. ... 0. 0. 0.]]\n",
      "[ 0.          0.05338542  0.015       0.21        0.21        0.\n",
      " -0.02678571  0.13461538  0.13461538 -0.03526187 -0.03513099  0.\n",
      " -0.03517316 -0.03521826 -0.03521924  0.         -0.01978175 -0.01590909\n",
      " -0.01464286 -0.03528627 -0.03510685 -0.03528627 -0.5         0.04761905\n",
      " -0.23148148  0.          0.         -0.5        -0.05       -0.00535714\n",
      " -0.00535714 -0.00535714  0.          0.          0.00902199  0.\n",
      "  0.00902199  0.          0.         -0.01666667 -0.125       0.\n",
      "  0.34        0.          0.          0.          0.          0.\n",
      "  0.          0.         -0.01590909 -0.1         0.175       0.\n",
      "  0.          0.21        0.015      -0.03529999 -0.03509328  0.85\n",
      "  0.34       -0.01590909  0.         -0.1        -0.07777778  0.\n",
      "  0.          0.          0.13961039 -0.01145833  0.         -0.04821429\n",
      "  0.          0.00902199 -0.03529827 -0.03509498  0.          0.04761905\n",
      "  0.          0.35       -0.14166667  0.35        0.07047619 -0.23148148\n",
      "  0.         -0.01590909  0.075       0.4        -0.03529557 -0.03509551\n",
      "  0.          0.13961039 -0.03527407  0.          0.          0.\n",
      " -0.01590909 -0.01590909  0.          0.          0.05       -0.05\n",
      " -0.01590909  0.          0.          0.13961039  0.         -0.03527407\n",
      "  0.015      -0.05       -0.03527407  0.          0.67857143  0.\n",
      " -0.2        -0.01666667  0.         -0.03528828 -0.03510288  0.\n",
      "  0.14285714  0.          0.13961039 -0.03528828 -0.03510288  0.\n",
      "  0.          0.          0.35        0.          0.          0.\n",
      "  0.          0.01785714  0.          0.00902199  0.          0.25\n",
      "  0.          0.         -0.625       0.         -0.01590909  0.\n",
      "  0.1275      0.          0.13961039 -0.03529227 -0.00535714  0.\n",
      " -0.5         0.         -0.01666667  0.          0.13961039  0.\n",
      "  0.          0.          0.          0.          0.         -0.15111111\n",
      "  0.          0.13961039  0.          0.         -0.01590909 -0.25\n",
      "  0.          0.          0.00357143  0.         -0.03529827  0.13961039\n",
      "  0.         -0.01590909 -0.05        0.8         0.          0.\n",
      " -0.05        0.          0.          0.        ]\n"
     ]
    },
    {
     "name": "stderr",
     "output_type": "stream",
     "text": [
      "\n"
     ]
    }
   ],
   "source": [
    "max_rounds=500\n",
    "opinionsIterations=deGroot(A, s, max_rounds, eps=1e-6, conv_stop=True, save=True)\n",
    "print(opinionsIterations[499])\n",
    "#plot_opinions(opinionsIterations, title='', dcolor=False, interp=True,cmap=plt.cm.cool, linewidth=1.0)"
   ]
  },
  {
   "cell_type": "code",
   "execution_count": null,
   "metadata": {},
   "outputs": [],
   "source": []
  },
  {
   "cell_type": "code",
   "execution_count": null,
   "metadata": {},
   "outputs": [],
   "source": []
  }
 ],
 "metadata": {
  "kernelspec": {
   "display_name": "Python 3",
   "language": "python",
   "name": "python3"
  },
  "language_info": {
   "codemirror_mode": {
    "name": "ipython",
    "version": 3
   },
   "file_extension": ".py",
   "mimetype": "text/x-python",
   "name": "python",
   "nbconvert_exporter": "python",
   "pygments_lexer": "ipython3",
   "version": "3.7.5rc1"
  }
 },
 "nbformat": 4,
 "nbformat_minor": 2
}
